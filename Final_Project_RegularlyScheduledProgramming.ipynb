{
 "cells": [
  {
   "cell_type": "markdown",
   "metadata": {},
   "source": [
    "## COSC 325 Final Project: Credit Card Fraud Analysis\n",
    "### By \"Regularly Scheduled Programming\"\n",
    "**Will Greenwood**&emsp;**Maddie Gross**&emsp;**Cinzia Pacione**&emsp;**Ethan Weathers**"
   ]
  },
  {
   "cell_type": "markdown",
   "metadata": {},
   "source": [
    "### Import Dependencies"
   ]
  },
  {
   "cell_type": "code",
   "execution_count": 103,
   "metadata": {},
   "outputs": [],
   "source": [
    "import pandas as pd\n",
    "\n",
    "from sklearn.preprocessing import StandardScaler\n",
    "\n",
    "from scipy import stats"
   ]
  },
  {
   "cell_type": "markdown",
   "metadata": {},
   "source": [
    "### Read and Clean Data\n",
    "Add details later..."
   ]
  },
  {
   "cell_type": "code",
   "execution_count": 104,
   "metadata": {},
   "outputs": [],
   "source": [
    "# Store csv in a pandas DataFrame\n",
    "df = pd.read_csv(\"fraud_data.csv\")\n",
    "\n",
    "# Drop unused columns\n",
    "drop_columns = []\n",
    "if drop_columns:\n",
    "    df.drop(columns=drop_columns, inplace=True)\n",
    "\n",
    "# Verify there are no null values\n",
    "null_count = df.isnull().sum()\n",
    "\n",
    "# Convert selective columns to appropriate data types\n",
    "df['trans_date_trans_time'] = pd.to_datetime(df['trans_date_trans_time'],\n",
    "                                             format='%d-%m-%Y %H:%M')\n",
    "df['dob'] = pd.to_datetime(df['dob'], format='%d-%m-%Y')\n",
    "\n",
    "#######################################################################\n",
    "# We might not want to scale data if extreme values matter. idk :(\n",
    "#######################################################################\n",
    "# Scale numberical values with StandardScaler\n",
    "# scaler_columns = ['amt', 'city_pop']\n",
    "# scaler = StandardScaler()\n",
    "# df[scaler_columns] = scaler.fit_transform(df[scaler_columns])\n"
   ]
  },
  {
   "cell_type": "markdown",
   "metadata": {},
   "source": [
    "Optional cell to write metadata to a file:"
   ]
  },
  {
   "cell_type": "code",
   "execution_count": 105,
   "metadata": {},
   "outputs": [],
   "source": [
    "show_metadata = False\n",
    "if show_metadata:\n",
    "    with open(\"metadata.txt\", \"w\") as f:\n",
    "        from io import StringIO\n",
    "        \n",
    "        buffer = StringIO()\n",
    "        df.info(buf=buffer)\n",
    "        f.write(\"DataFrame Info:\\n\")\n",
    "        f.write(buffer.getvalue())\n",
    "        \n",
    "        f.write(\"\\n\\nNumber of unique values per column:\\n\")\n",
    "        f.write(df.nunique().to_string())\n",
    "        \n",
    "        f.write(\"\\n\\nNull values per column:\\n\")\n",
    "        f.write(null_count.to_string())"
   ]
  }
 ],
 "metadata": {
  "kernelspec": {
   "display_name": "cs-325",
   "language": "python",
   "name": "python3"
  },
  "language_info": {
   "codemirror_mode": {
    "name": "ipython",
    "version": 3
   },
   "file_extension": ".py",
   "mimetype": "text/x-python",
   "name": "python",
   "nbconvert_exporter": "python",
   "pygments_lexer": "ipython3",
   "version": "3.12.9"
  }
 },
 "nbformat": 4,
 "nbformat_minor": 2
}
